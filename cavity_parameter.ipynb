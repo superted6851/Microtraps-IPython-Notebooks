{
 "metadata": {
  "name": "cavity_parameter"
 }, 
 "nbformat": 2, 
 "worksheets": [
  {
   "cells": [
    {
     "cell_type": "code", 
     "collapsed": true, 
     "input": [
      "from scipy.constants import value, c, e, epsilon_0, hbar, k", 
      "a0 = value('Bohr radius')", 
      "# Transitions dipole element from Steck", 
      "dcyc = 2.989 * e * a0"
     ], 
     "language": "python", 
     "outputs": [], 
     "prompt_number": 62
    }, 
    {
     "cell_type": "markdown", 
     "source": [
      "Cavity Parameters", 
      "=================", 
      "", 
      "All parameters are HWHM, cavity QED style. That is 2g is the single photon Rabi frequency,", 
      "kappa the field and gamma the dipole decay rate."
     ]
    }, 
    {
     "cell_type": "code", 
     "collapsed": false, 
     "input": [
      "g = 2 * pi * 1.06e6", 
      "kappa = 2 * pi * 75e3", 
      "gamma = 2 * pi * 3e6", 
      "", 
      "cooperativity = g**2 / (kappa * gamma)", 
      "print round(cooperativity, 2)"
     ], 
     "language": "python", 
     "outputs": [
      {
       "output_type": "stream", 
       "stream": "stdout", 
       "text": [
        "4.99"
       ]
      }
     ], 
     "prompt_number": 63
    }, 
    {
     "cell_type": "markdown", 
     "source": [
      "The g stated above is for the cycling transition, we discount for driving with $\\pi$-light and non-perfect overlap", 
      "by using an effective geff."
     ]
    }, 
    {
     "cell_type": "code", 
     "collapsed": false, 
     "input": [
      "geff = 0.7 * g"
     ], 
     "language": "python", 
     "outputs": [], 
     "prompt_number": 64
    }, 
    {
     "cell_type": "markdown", 
     "source": [
      "Self organization", 
      "=================", 
      "Next we calculate the relevant parameters for self-organization from [Asboth et al.](http://arxiv.org/abs/quant-ph/0508074v1) Let us first define the functions:"
     ]
    }, 
    {
     "cell_type": "code", 
     "collapsed": true, 
     "input": [
      "def U0(geff, detuning, dipole_decay_rate):", 
      "    \"\"\" Return the dispersive paramter, see Asboth et al. (3) \"\"\"", 
      "    return geff**2 * detuning / (detuning**2 + dipole_decay_rate**2)", 
      "", 
      "def Gamma0(geff, detuning, dipole_decay_rate):", 
      "    \"\"\" Return the absorptive parameter, see Asboth et al. (3) \"\"\"", 
      "    return geff**2 * dipole_decay_rate / (detuning**2 + dipole_decay_rate**2)"
     ], 
     "language": "python", 
     "outputs": [], 
     "prompt_number": 65
    }, 
    {
     "cell_type": "markdown", 
     "source": [
      "Now let's look at the example we have in mind, with the second generation cavity experiment:"
     ]
    }, 
    {
     "cell_type": "code", 
     "collapsed": false, 
     "input": [
      "# Number of atoms", 
      "N = 10e3", 
      "# Temperature", 
      "T = 20e-6", 
      "# Detuning from atomic resonance", 
      "detuning = 2 * pi * 20e9", 
      "# Laser ", 
      "power = 1e-3", 
      "waist = 200e-6", 
      "intensity = 2 * power / (pi * waist**2)", 
      "amplitude = sqrt(2 * intensity / (epsilon_0 * c))", 
      "rabi_rate = dcyc * amplitude / hbar", 
      "", 
      "disp_parameter = U0(geff, detuning, gamma)", 
      "threshold_parameter = N * disp_parameter * hbar * rabi_rate / (k * T * kappa)", 
      "", 
      "print \"U0:\\t\\t{0:0.3e}\".format(disp_parameter/ (2*pi))", 
      "print \"N * U0 / kappa:\\t{0:0.2e}\".format(N * disp_parameter/ kappa,2)", 
      "print \"Rabi rate:\\t{0:0.2e}\".format(rabi_rate / (2* pi))", 
      "print \"Threshold:\\t{0:0.3}\".format(threshold_parameter)", 
      "print \"Cunt\""
     ], 
     "language": "python", 
     "outputs": [
      {
       "output_type": "stream", 
       "stream": "stdout", 
       "text": [
        "U0:\t\t2.753e+01", 
        "N * U0 / kappa:\t3.67e+00", 
        "Rabi rate:\t1.32e+08", 
        "Threshold:\t1.17e+03", 
        "Cunt"
       ]
      }
     ], 
     "prompt_number": 67
    }, 
    {
     "cell_type": "code", 
     "collapsed": true, 
     "input": [], 
     "language": "python", 
     "outputs": [], 
     "prompt_number": "&nbsp;"
    }
   ]
  }
 ]
}