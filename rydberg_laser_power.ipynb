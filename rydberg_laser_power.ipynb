{
 "metadata": {
  "name": "rydberg_laser_power"
 }, 
 "nbformat": 2, 
 "worksheets": [
  {
   "cells": [
    {
     "cell_type": "markdown", 
     "source": [
      "Rydberg Laser Power Notebook", 
      "============================", 
      "", 
      "This notebook calculates how much laser power will be needed to perform", 
      "the experiments on Rydberg atoms in a cavity.", 
      "", 
      "The main references are ", 
      "", 
      "* Guerlin et al. PRA 82, 055382", 
      "* Saffman et al. RMP 82, 2313", 
      "* Steck Rb 87 D Line Data"
     ]
    }, 
    {
     "cell_type": "markdown", 
     "source": [
      "Constants", 
      "---------"
     ]
    }, 
    {
     "cell_type": "code", 
     "collapsed": false, 
     "input": [
      "from scipy.constants import value, epsilon_0, hbar, c, pi, e, h", 
      "a0 = value('Bohr radius')"
     ], 
     "language": "python", 
     "outputs": [], 
     "prompt_number": 7
    }, 
    {
     "cell_type": "markdown", 
     "source": [
      "Transition Dipoles", 
      "------------------", 
      "", 
      "The strength of the Rydberg transition is quoted as transition dipole in ", 
      "Saffman et al. on page 2333. This is the radial part of the trasition ", 
      "element from the states on the D1 resp. D2 line up to the Rydberg state.", 
      "By using Wickner-Eckert theorem repeatedly, we can figure out the exact", 
      "trasition dipoles from that.", 
      "", 
      "We start by first defining the functions needed for calculations of the", 
      "Wigner-Eckert theorem and of Chlebsch-Gordon coefficients. These are", 
      "taken from the sympy package."
     ]
    }, 
    {
     "cell_type": "code", 
     "collapsed": true, 
     "input": [
      "from sympy.physics import wigner", 
      "", 
      "def wigner_6j_rational(j1, j2, j3, j4, j5, j6):", 
      "    # Convert input arguments to sympy Rationals by rounding", 
      "    # the numbers to nearest half integer.", 
      "    input_args = [j1, j2, j3, j4, j5, j6]", 
      "    sympy_args = [sympy.Rational(np.round(2*j),2) for j in input_args]", 
      "", 
      "    # Sympy wigner_6j function returns an sympy object", 
      "    # which can be evaluated again using evalf()", 
      "    return wigner.wigner_6j(*sympy_args)", 
      "", 
      "def wigner_6j(j1, j2, j3, j4, j5, j6):", 
      "    '''", 
      "    Calculates Wigner 6j Symbol using the routine", 
      "    in sympy >= 0.71. Input is rounded to nearest half integer.", 
      "    Returns result as a float", 
      "    '''", 
      "    # Sympy wigner_6j function returns an sympy object", 
      "    # which can be evaluated again using evalf()", 
      "    return wigner_6j_rational(j1, j2, j3, j4, j5, j6).evalf()", 
      "", 
      "def reduced_dipole(dipole, l, lprime, j, jprime):", 
      "    w6j = wigner_6j(l, lprime, 1, jprime, j, 0.5)", 
      "    sign = (-1)**(jprime + l + 1.5)", 
      "    return dipole * sign * np.sqrt((2*jprime + 1)*(2*l+1)) * w6j", 
      "", 
      "def reduced_dipole_i(dipole, j, jprime, f, fprime):", 
      "    w6j = wigner_6j(j, jprime, 1, fprime, f, 1.5)", 
      "    sign = (-1)**(fprime + j + 2.5)", 
      "    return dipole * sign * np.sqrt((2*fprime + 1)*(2*j+1)) * w6j", 
      "", 
      "def lifetime(dipole, j, jprime):", 
      "    k = 2*pi/780.241e-9", 
      "    w0 = c * k", 
      "    return (3 * pi * epsilon_0 * hbar * c**3 * (2*jprime+1)) / \\", 
      "           (w0**3 * (e * a0 * dipole)**2 * (2*j+1))"
     ], 
     "language": "python", 
     "outputs": [], 
     "prompt_number": 9
    }, 
    {
     "cell_type": "markdown", 
     "source": [
      "Test Functions To Calculate Transition Dipoles", 
      "----------------------------------------------", 
      "In this section, we make sure that we understand how to calculate transition", 
      "dipole elements and check that we correctly use the functions, by calculating", 
      "the D Line transition elements from the Saffman et al. paper and compare it", 
      "to Steck's results.", 
      "", 
      "The transition dipole from the 5S to the 5P is given as 5.1 a0 on page 2333 of", 
      "Saffman et al."
     ]
    }, 
    {
     "cell_type": "code", 
     "collapsed": false, 
     "input": [
      "D_line_dipole = 5.1", 
      "", 
      "# Calculate lifetime according to Steck's formula", 
      "# 5S to 5P is a L=0 to L=1 transition", 
      "D_line_lifetime = lifetime(D_line_dipole, 0, 1) ", 
      "", 
      "print \"Lifetime:\\t{0:0.2} ns\".format(D_line_lifetime / 1e-9)"
     ], 
     "language": "python", 
     "outputs": [
      {
       "output_type": "stream", 
       "stream": "stdout", 
       "text": [
        "Lifetime:\t2.7e+01 ns"
       ]
      }
     ], 
     "prompt_number": 12
    }, 
    {
     "cell_type": "markdown", 
     "source": [
      "which matches the expected life time of 26.23 ns for the D2 and 27.68 ns for the", 
      "D1 line. Note that in the formula we have to take into the degeneracy of the ", 
      "two levels we are looking at. It seems that Saffman et al. and Steck use the", 
      "same convention. Loudin derives that convention in his book."
     ]
    }, 
    {
     "cell_type": "code", 
     "collapsed": true, 
     "input": [], 
     "language": "python", 
     "outputs": [], 
     "prompt_number": "&nbsp;"
    }
   ]
  }
 ]
}