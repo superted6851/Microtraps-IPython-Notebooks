{
 "metadata": {
  "name": "rydberg_laser_power"
 }, 
 "nbformat": 2, 
 "worksheets": [
  {
   "cells": [
    {
     "cell_type": "markdown", 
     "source": [
      "Rydberg Laser Power Notebook", 
      "============================", 
      "", 
      "This notebook calculates how much laser power will be needed to perform", 
      "the experiments on Rydberg atoms in a cavity.", 
      "", 
      "The main references are ", 
      "", 
      "* Guerlin et al. PRA 82, 055382", 
      "* Saffman et al. RMP 82, 2313", 
      "* Steck Rb 87 D Line Data"
     ]
    }, 
    {
     "cell_type": "markdown", 
     "source": [
      "Constants", 
      "---------"
     ]
    }, 
    {
     "cell_type": "code", 
     "collapsed": false, 
     "input": [
      "from scipy.constants import value, epsilon_0, hbar, c, pi, e, h", 
      "a0 = value('Bohr radius')"
     ], 
     "language": "python", 
     "outputs": [], 
     "prompt_number": 7
    }, 
    {
     "cell_type": "markdown", 
     "source": [
      "Transition Dipoles", 
      "------------------", 
      "", 
      "The strength of the Rydberg transition is quoted as transition dipole in ", 
      "Saffman et al. on page 2333. This is the radial part of the trasition ", 
      "element from the states on the D1 resp. D2 line up to the Rydberg state.", 
      "By using Wickner-Eckert theorem repeatedly, we can figure out the exact", 
      "trasition dipoles from that.", 
      "", 
      "We start by first defining the functions needed for calculations of the", 
      "Wigner-Eckert theorem and of Chlebsch-Gordon coefficients. These are", 
      "taken from the sympy package."
     ]
    }, 
    {
     "cell_type": "code", 
     "collapsed": true, 
     "input": [
      "from sympy.physics import wigner", 
      "", 
      "def wigner_6j_rational(j1, j2, j3, j4, j5, j6):", 
      "    # Convert input arguments to sympy Rationals by rounding", 
      "    # the numbers to nearest half integer.", 
      "    input_args = [j1, j2, j3, j4, j5, j6]", 
      "    sympy_args = [sympy.Rational(np.round(2*j),2) for j in input_args]", 
      "", 
      "    # Sympy wigner_6j function returns an sympy object", 
      "    # which can be evaluated again using evalf()", 
      "    return wigner.wigner_6j(*sympy_args)", 
      "", 
      "def wigner_6j(j1, j2, j3, j4, j5, j6):", 
      "    '''", 
      "    Calculates Wigner 6j Symbol using the routine", 
      "    in sympy >= 0.71. Input is rounded to nearest half integer.", 
      "    Returns result as a float", 
      "    '''", 
      "    # Sympy wigner_6j function returns an sympy object", 
      "    # which can be evaluated again using evalf()", 
      "    return wigner_6j_rational(j1, j2, j3, j4, j5, j6).evalf()", 
      "", 
      "def reduced_dipole(dipole, l, lprime, j, jprime):", 
      "    w6j = wigner_6j(l, lprime, 1, jprime, j, 0.5)", 
      "    sign = (-1)**(jprime + l + 1.5)", 
      "    return dipole * sign * np.sqrt((2*jprime + 1)*(2*l+1)) * w6j", 
      "", 
      "def reduced_dipole_i(dipole, j, jprime, f, fprime):", 
      "    w6j = wigner_6j(j, jprime, 1, fprime, f, 1.5)", 
      "    sign = (-1)**(fprime + j + 2.5)", 
      "    return dipole * sign * np.sqrt((2*fprime + 1)*(2*j+1)) * w6j", 
      "", 
      "def lifetime(dipole, j, jprime):", 
      "    k = 2*pi/780.241e-9", 
      "    w0 = c * k", 
      "    return (3 * pi * epsilon_0 * hbar * c**3 * (2*jprime+1)) / \\", 
      "           (w0**3 * (e * a0 * dipole)**2 * (2*j+1))"
     ], 
     "language": "python", 
     "outputs": [], 
     "prompt_number": 9
    }, 
    {
     "cell_type": "markdown", 
     "source": [
      "Test Functions To Calculate Transition Dipoles", 
      "----------------------------------------------", 
      "In this section, we make sure that we understand how to calculate transition", 
      "dipole elements and check that we correctly use the functions, by calculating", 
      "the D Line transition elements from the Saffman et al. paper and compare it", 
      "to Steck's results.", 
      "", 
      "The transition dipole from the 5S to the 5P is given as 5.1 a0 on page 2333 of", 
      "Saffman et al."
     ]
    }, 
    {
     "cell_type": "code", 
     "collapsed": false, 
     "input": [
      "D_line_dipole = 5.1", 
      "", 
      "# Calculate lifetime according to Steck's formula", 
      "# 5S to 5P is a L=0 to L=1 transition", 
      "D_line_lifetime = lifetime(D_line_dipole, 0, 1) ", 
      "", 
      "print \"Lifetime:\\t{0:0.2} ns\".format(D_line_lifetime / 1e-9)"
     ], 
     "language": "python", 
     "outputs": [
      {
       "output_type": "stream", 
       "stream": "stdout", 
       "text": [
        "Lifetime:\t2.7e+01 ns"
       ]
      }
     ], 
     "prompt_number": 12
    }, 
    {
     "cell_type": "markdown", 
     "source": [
      "which matches the expected life time of 26.23 ns for the D2 and 27.68 ns for the", 
      "D1 line. Note that in the formula we have to take into the degeneracy of the ", 
      "two levels we are looking at. It seems that Saffman et al. and Steck use the", 
      "same convention. Loudin derives that convention in his book. Next we calculate the", 
      "reduced dipole moment according to the Wigner-Eckert theorem as stated in Steck"
     ]
    }, 
    {
     "cell_type": "code", 
     "collapsed": false, 
     "input": [
      "for j, label in zip([0.5, 1.5], [\"D1\", \"D2\"]):", 
      "    dipole_calc = reduced_dipole(D_line_dipole, 0, 1, 0.5, j)", 
      "    lifetime_calc = lifetime(dipole_calc, 0.5, j)", 
      "    print label + \" dipole moment:\\t\" + str(dipole_calc) + \" a0\"", 
      "    print label + \" lifetime:\\t\\t\" + str(lifetime_calc) + \" s\""
     ], 
     "language": "python", 
     "outputs": [
      {
       "output_type": "stream", 
       "stream": "stdout", 
       "text": [
        "D1 dipole moment:\t2.94448637286709 a0", 
        "D1 lifetime:\t\t2.70396188499747e-8 s", 
        "D2 dipole moment:\t4.16413256273140 a0", 
        "D2 lifetime:\t\t2.70396188499747e-8 s"
       ]
      }
     ], 
     "prompt_number": 17
    }, 
    {
     "cell_type": "markdown", 
     "source": [
      "which matches the transition dipoles stated in Steck, 2.99 a0 for the D1 and", 
      "4.23 a0 for the D2 line. Also the lifetimes match up. In short we have a", 
      "consistent way of treating the transition dipole moments.", 
      "", 
      "Things to note:", 
      "", 
      "* Saffmann et al. seem to use the same convention as Steck, allthough they", 
      "do not state theirs explicitely", 
      "* Calculation of lifetimes has to include the degeneracy factors"
     ]
    }, 
    {
     "cell_type": "markdown", 
     "source": [
      "Rydberg Transition Dipoles", 
      "-------------------------", 
      "", 
      "The transition dipole moments from the D states to the high lying Rydberg states", 
      "are given in Saffman et al. on page 2333, without any references. From remarks", 
      "on page 2318 around Eq. (7), it is likely that the result has been calculated ", 
      "using quantum defect theory. The formulas are"
     ]
    }, 
    {
     "cell_type": "code", 
     "collapsed": true, 
     "input": [
      "def dipole_5p_ns(n):", 
      "    return 0.014 * (50.0/n)**1.5", 
      "", 
      "def dipole_5p_nd(n):", 
      "    return -0.024 * (50.0/n)**1.5"
     ], 
     "language": "python", 
     "outputs": [], 
     "prompt_number": 18
    }, 
    {
     "cell_type": "markdown", 
     "source": [
      "Rabi Frequencies From Transition Dipoles", 
      "----------------------------------------", 
      "In a last step we have to convert the transition dipoles into Rabi Frequencies, ", 
      "to do that we define a couple of helper functions"
     ]
    }, 
    {
     "cell_type": "code", 
     "collapsed": true, 
     "input": [
      "def rabi_frequency(amplitude, dipole):", 
      "    return -e * amplitude * dipole * a0 / hbar", 
      "", 
      "def amplitude(power, waist):", 
      "    return amplitude_xy(power, waist, waist)", 
      "", 
      "def amplitude_xy(power, waistx, waisty):", 
      "    intensity = 2*power/(pi*waistx*waisty)", 
      "    return np.sqrt(2 * intensity / (epsilon_0 * c))"
     ], 
     "language": "python", 
     "outputs": [], 
     "prompt_number": 19
    }, 
    {
     "cell_type": "markdown", 
     "source": [
      "Rabi Frequency to the 70S state"
     ]
    }, 
    {
     "cell_type": "code", 
     "collapsed": false, 
     "input": [
      "waist = 30e-6", 
      "power = 10e-3", 
      "dipole_70s = dipole_5p_ns(70)", 
      "", 
      "print rabi_frequency(amplitude(power, waist), dipole_70s) / (2 * pi) /1e6"
     ], 
     "language": "python", 
     "outputs": [
      {
       "output_type": "stream", 
       "stream": "stdout", 
       "text": [
        "-7.89479008142"
       ]
      }
     ], 
     "prompt_number": 24
    }, 
    {
     "cell_type": "code", 
     "collapsed": true, 
     "input": [], 
     "language": "python", 
     "outputs": [], 
     "prompt_number": "&nbsp;"
    }
   ]
  }
 ]
}